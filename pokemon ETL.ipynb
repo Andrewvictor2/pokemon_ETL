{
 "cells": [
  {
   "cell_type": "code",
   "execution_count": 1,
   "id": "0551c3b7",
   "metadata": {},
   "outputs": [
    {
     "data": {
      "text/html": [
       "<div>\n",
       "<style scoped>\n",
       "    .dataframe tbody tr th:only-of-type {\n",
       "        vertical-align: middle;\n",
       "    }\n",
       "\n",
       "    .dataframe tbody tr th {\n",
       "        vertical-align: top;\n",
       "    }\n",
       "\n",
       "    .dataframe thead th {\n",
       "        text-align: right;\n",
       "    }\n",
       "</style>\n",
       "<table border=\"1\" class=\"dataframe\">\n",
       "  <thead>\n",
       "    <tr style=\"text-align: right;\">\n",
       "      <th></th>\n",
       "      <th>number</th>\n",
       "      <th>name</th>\n",
       "      <th>type1</th>\n",
       "      <th>type2</th>\n",
       "      <th>total</th>\n",
       "      <th>hp</th>\n",
       "      <th>attack</th>\n",
       "      <th>defense</th>\n",
       "      <th>sp_attack</th>\n",
       "      <th>sp_defense</th>\n",
       "      <th>speed</th>\n",
       "      <th>generation</th>\n",
       "      <th>legendary</th>\n",
       "    </tr>\n",
       "  </thead>\n",
       "  <tbody>\n",
       "    <tr>\n",
       "      <th>0</th>\n",
       "      <td>1</td>\n",
       "      <td>Bulbasaur</td>\n",
       "      <td>Grass</td>\n",
       "      <td>Poison</td>\n",
       "      <td>318</td>\n",
       "      <td>45</td>\n",
       "      <td>49</td>\n",
       "      <td>49</td>\n",
       "      <td>65</td>\n",
       "      <td>65</td>\n",
       "      <td>45</td>\n",
       "      <td>1</td>\n",
       "      <td>False</td>\n",
       "    </tr>\n",
       "    <tr>\n",
       "      <th>1</th>\n",
       "      <td>2</td>\n",
       "      <td>Ivysaur</td>\n",
       "      <td>Grass</td>\n",
       "      <td>Poison</td>\n",
       "      <td>405</td>\n",
       "      <td>60</td>\n",
       "      <td>62</td>\n",
       "      <td>63</td>\n",
       "      <td>80</td>\n",
       "      <td>80</td>\n",
       "      <td>60</td>\n",
       "      <td>1</td>\n",
       "      <td>False</td>\n",
       "    </tr>\n",
       "    <tr>\n",
       "      <th>2</th>\n",
       "      <td>3</td>\n",
       "      <td>Venusaur</td>\n",
       "      <td>Grass</td>\n",
       "      <td>Poison</td>\n",
       "      <td>525</td>\n",
       "      <td>80</td>\n",
       "      <td>82</td>\n",
       "      <td>83</td>\n",
       "      <td>100</td>\n",
       "      <td>100</td>\n",
       "      <td>80</td>\n",
       "      <td>1</td>\n",
       "      <td>False</td>\n",
       "    </tr>\n",
       "    <tr>\n",
       "      <th>3</th>\n",
       "      <td>3</td>\n",
       "      <td>Mega Venusaur</td>\n",
       "      <td>Grass</td>\n",
       "      <td>Poison</td>\n",
       "      <td>625</td>\n",
       "      <td>80</td>\n",
       "      <td>100</td>\n",
       "      <td>123</td>\n",
       "      <td>122</td>\n",
       "      <td>120</td>\n",
       "      <td>80</td>\n",
       "      <td>1</td>\n",
       "      <td>False</td>\n",
       "    </tr>\n",
       "    <tr>\n",
       "      <th>4</th>\n",
       "      <td>3</td>\n",
       "      <td>Gigantamax Venusaur</td>\n",
       "      <td>Grass</td>\n",
       "      <td>Poison</td>\n",
       "      <td>525</td>\n",
       "      <td>80</td>\n",
       "      <td>82</td>\n",
       "      <td>83</td>\n",
       "      <td>100</td>\n",
       "      <td>100</td>\n",
       "      <td>80</td>\n",
       "      <td>1</td>\n",
       "      <td>False</td>\n",
       "    </tr>\n",
       "  </tbody>\n",
       "</table>\n",
       "</div>"
      ],
      "text/plain": [
       "   number                 name  type1   type2  total  hp  attack  defense  \\\n",
       "0       1            Bulbasaur  Grass  Poison    318  45      49       49   \n",
       "1       2              Ivysaur  Grass  Poison    405  60      62       63   \n",
       "2       3             Venusaur  Grass  Poison    525  80      82       83   \n",
       "3       3        Mega Venusaur  Grass  Poison    625  80     100      123   \n",
       "4       3  Gigantamax Venusaur  Grass  Poison    525  80      82       83   \n",
       "\n",
       "   sp_attack  sp_defense  speed  generation  legendary  \n",
       "0         65          65     45           1      False  \n",
       "1         80          80     60           1      False  \n",
       "2        100         100     80           1      False  \n",
       "3        122         120     80           1      False  \n",
       "4        100         100     80           1      False  "
      ]
     },
     "execution_count": 1,
     "metadata": {},
     "output_type": "execute_result"
    }
   ],
   "source": [
    "import pandas as pd\n",
    "import sqlite3\n",
    "\n",
    "# Load the data\n",
    "file_path = 'Pokemon.csv'  # Update to your actual file path\n",
    "pokemon = pd.read_csv(file_path)\n",
    "pokemon.head()"
   ]
  },
  {
   "cell_type": "code",
   "execution_count": 2,
   "id": "f9b64e1f",
   "metadata": {},
   "outputs": [
    {
     "data": {
      "text/plain": [
       "array(['Grass', 'Fire', 'Water', 'Blastoise', 'Bug', 'Normal', 'Dark',\n",
       "       'Poison', 'Electric', 'Ground', 'Ice', 'Fairy', 'Steel',\n",
       "       'Fighting', 'Psychic', 'Rock', 'Ghost', 'Dragon', 'Flying',\n",
       "       'Graass'], dtype=object)"
      ]
     },
     "execution_count": 2,
     "metadata": {},
     "output_type": "execute_result"
    }
   ],
   "source": [
    "pokemon['type1'].unique()"
   ]
  },
  {
   "cell_type": "code",
   "execution_count": 3,
   "id": "574976f4",
   "metadata": {},
   "outputs": [],
   "source": [
    "#fixing typos in type1 column\n",
    "pokemon.loc[pokemon[\"type1\"] == \"Graass\", \"type1\"] = \"Grass\"\n",
    "pokemon.loc[pokemon['type1'] == 'Blastoise', 'type1'] = 'Water'"
   ]
  },
  {
   "cell_type": "code",
   "execution_count": 4,
   "id": "357acbb7",
   "metadata": {},
   "outputs": [],
   "source": [
    "# Fill missing values in Type 2 with Type 1\n",
    "pokemon['type2'] = pokemon['type2'].fillna(pokemon['type1'])"
   ]
  },
  {
   "cell_type": "code",
   "execution_count": 5,
   "id": "820924c9",
   "metadata": {},
   "outputs": [
    {
     "data": {
      "text/plain": [
       "array([1, 7, 8, 2, 3, 4, 5, 6, 0], dtype=int64)"
      ]
     },
     "execution_count": 5,
     "metadata": {},
     "output_type": "execute_result"
    }
   ],
   "source": [
    "pokemon['generation'].unique()"
   ]
  },
  {
   "cell_type": "code",
   "execution_count": 6,
   "id": "e1fa7f85",
   "metadata": {},
   "outputs": [
    {
     "data": {
      "text/html": [
       "<div>\n",
       "<style scoped>\n",
       "    .dataframe tbody tr th:only-of-type {\n",
       "        vertical-align: middle;\n",
       "    }\n",
       "\n",
       "    .dataframe tbody tr th {\n",
       "        vertical-align: top;\n",
       "    }\n",
       "\n",
       "    .dataframe thead th {\n",
       "        text-align: right;\n",
       "    }\n",
       "</style>\n",
       "<table border=\"1\" class=\"dataframe\">\n",
       "  <thead>\n",
       "    <tr style=\"text-align: right;\">\n",
       "      <th></th>\n",
       "      <th>number</th>\n",
       "      <th>name</th>\n",
       "      <th>type1</th>\n",
       "      <th>type2</th>\n",
       "      <th>total</th>\n",
       "      <th>hp</th>\n",
       "      <th>attack</th>\n",
       "      <th>defense</th>\n",
       "      <th>sp_attack</th>\n",
       "      <th>sp_defense</th>\n",
       "      <th>speed</th>\n",
       "      <th>generation</th>\n",
       "      <th>legendary</th>\n",
       "    </tr>\n",
       "  </thead>\n",
       "  <tbody>\n",
       "    <tr>\n",
       "      <th>950</th>\n",
       "      <td>808</td>\n",
       "      <td>Meltan</td>\n",
       "      <td>Steel</td>\n",
       "      <td>Steel</td>\n",
       "      <td>300</td>\n",
       "      <td>46</td>\n",
       "      <td>65</td>\n",
       "      <td>65</td>\n",
       "      <td>55</td>\n",
       "      <td>35</td>\n",
       "      <td>34</td>\n",
       "      <td>0</td>\n",
       "      <td>True</td>\n",
       "    </tr>\n",
       "    <tr>\n",
       "      <th>951</th>\n",
       "      <td>809</td>\n",
       "      <td>Melmetal</td>\n",
       "      <td>Steel</td>\n",
       "      <td>Steel</td>\n",
       "      <td>600</td>\n",
       "      <td>135</td>\n",
       "      <td>143</td>\n",
       "      <td>143</td>\n",
       "      <td>80</td>\n",
       "      <td>65</td>\n",
       "      <td>34</td>\n",
       "      <td>0</td>\n",
       "      <td>True</td>\n",
       "    </tr>\n",
       "    <tr>\n",
       "      <th>952</th>\n",
       "      <td>809</td>\n",
       "      <td>Gigantamax Melmetal</td>\n",
       "      <td>Steel</td>\n",
       "      <td>Steel</td>\n",
       "      <td>600</td>\n",
       "      <td>135</td>\n",
       "      <td>143</td>\n",
       "      <td>143</td>\n",
       "      <td>80</td>\n",
       "      <td>65</td>\n",
       "      <td>34</td>\n",
       "      <td>0</td>\n",
       "      <td>True</td>\n",
       "    </tr>\n",
       "  </tbody>\n",
       "</table>\n",
       "</div>"
      ],
      "text/plain": [
       "     number                 name  type1  type2  total   hp  attack  defense  \\\n",
       "950     808               Meltan  Steel  Steel    300   46      65       65   \n",
       "951     809             Melmetal  Steel  Steel    600  135     143      143   \n",
       "952     809  Gigantamax Melmetal  Steel  Steel    600  135     143      143   \n",
       "\n",
       "     sp_attack  sp_defense  speed  generation  legendary  \n",
       "950         55          35     34           0       True  \n",
       "951         80          65     34           0       True  \n",
       "952         80          65     34           0       True  "
      ]
     },
     "execution_count": 6,
     "metadata": {},
     "output_type": "execute_result"
    }
   ],
   "source": [
    "#there is no generation zero in pokemon !?\n",
    "pokemon[pokemon['generation'] == 0]"
   ]
  },
  {
   "cell_type": "code",
   "execution_count": 7,
   "id": "ca08fadf",
   "metadata": {},
   "outputs": [
    {
     "data": {
      "text/plain": [
       "array([1, 7, 8, 2, 3, 4, 5, 6], dtype=int64)"
      ]
     },
     "execution_count": 7,
     "metadata": {},
     "output_type": "execute_result"
    }
   ],
   "source": [
    "#meltan pokemon started from gen VII\n",
    "pokemon.loc[pokemon['generation'] == 0, 'generation'] = 7\n",
    "pokemon['generation'].unique()"
   ]
  },
  {
   "cell_type": "code",
   "execution_count": 8,
   "id": "c0306ebe",
   "metadata": {},
   "outputs": [],
   "source": [
    "# Split into original forms and other forms\n",
    "original_forms = pokemon.drop_duplicates(subset=\"number\", keep=\"first\")\n",
    "other_forms = pokemon[pokemon.duplicated(subset=\"number\", keep=\"first\")]"
   ]
  },
  {
   "cell_type": "code",
   "execution_count": 9,
   "id": "7b72da31",
   "metadata": {},
   "outputs": [
    {
     "data": {
      "text/plain": [
       "174"
      ]
     },
     "execution_count": 9,
     "metadata": {},
     "output_type": "execute_result"
    }
   ],
   "source": [
    "# Create SQLite database and save tables\n",
    "db_name = 'pokemon.db'\n",
    "connection = sqlite3.connect(db_name)\n",
    "\n",
    "original_forms.to_sql('original_forms', connection, if_exists='replace', index=False)\n",
    "other_forms.to_sql('other_forms', connection, if_exists='replace', index=False)"
   ]
  },
  {
   "cell_type": "code",
   "execution_count": 10,
   "id": "b6fae4c8",
   "metadata": {},
   "outputs": [],
   "source": [
    "# Filtering Function\n",
    "def filter_legendary(table_name, is_legendary=True):\n",
    "    \"\"\"Filter Pokémon based on their legendary status from a specific table.\"\"\"\n",
    "    query = f\"\"\"\n",
    "    SELECT * \n",
    "    FROM {table_name}\n",
    "    WHERE legendary = {1 if is_legendary else 0};\n",
    "    \"\"\"\n",
    "    return pd.read_sql_query(query, connection)\n",
    "\n",
    "# Example Usage: Filter Legendary Pokémon\n",
    "legendary_original = filter_legendary('original_forms', is_legendary=True)\n",
    "legendary_other = filter_legendary('other_forms', is_legendary=True)\n",
    "\n",
    "# Close the database connection\n",
    "connection.close()"
   ]
  },
  {
   "cell_type": "code",
   "execution_count": 11,
   "id": "a25e1152",
   "metadata": {},
   "outputs": [
    {
     "name": "stdout",
     "output_type": "stream",
     "text": [
      "Legendary Pokémon (Original Forms):\n",
      "   number      name     type1    type2  total   hp  attack  defense  \\\n",
      "0     144  Articuno       Ice   Flying    580   90      85      100   \n",
      "1     145    Zapdos  Electric   Flying    580   90      90       85   \n",
      "2     146   Moltres      Fire   Flying    580   90     100       90   \n",
      "3     150    Mewtwo   Psychic  Psychic    680  106     110       90   \n",
      "4     151       Mew   Psychic  Psychic    600  100     100      100   \n",
      "\n",
      "   sp_attack  sp_defense  speed  generation  legendary  \n",
      "0         95         125     85           1          1  \n",
      "1        125          90    100           1          1  \n",
      "2        125          85     90           1          1  \n",
      "3        154          90    130           1          1  \n",
      "4        100         100    100           1          1  \n"
     ]
    }
   ],
   "source": [
    "# Display results for verification\n",
    "print(\"Legendary Pokémon (Original Forms):\")\n",
    "print(legendary_original.head())"
   ]
  },
  {
   "cell_type": "code",
   "execution_count": 12,
   "id": "20fb82d5",
   "metadata": {},
   "outputs": [
    {
     "name": "stdout",
     "output_type": "stream",
     "text": [
      "\n",
      "Legendary Pokémon (Other Forms):\n",
      "   number               name     type1     type2  total   hp  attack  defense  \\\n",
      "0     144  Galarian Articuno   Psychic    Flying    580   90      85       85   \n",
      "1     145    Galarian Zapdos  Fighting    Flying    580   90     125       90   \n",
      "2     146   Galarian Moltres      Dark    Flying    580   90      85       90   \n",
      "3     150      Mega Mewtwo X   Psychic  Fighting    780  106     190      100   \n",
      "4     150      Mega Mewtwo Y   Psychic   Psychic    780  106     150       70   \n",
      "\n",
      "   sp_attack  sp_defense  speed  generation  legendary  \n",
      "0        125         100     95           8          1  \n",
      "1         85          90    100           8          1  \n",
      "2        100         125     90           8          1  \n",
      "3        154         100    130           1          1  \n",
      "4        194         120    140           1          1  \n"
     ]
    }
   ],
   "source": [
    "print(\"\\nLegendary Pokémon (Other Forms):\")\n",
    "print(legendary_other.head())"
   ]
  },
  {
   "cell_type": "code",
   "execution_count": null,
   "id": "08de12b1",
   "metadata": {},
   "outputs": [],
   "source": []
  }
 ],
 "metadata": {
  "kernelspec": {
   "display_name": "Python 3 (ipykernel)",
   "language": "python",
   "name": "python3"
  },
  "language_info": {
   "codemirror_mode": {
    "name": "ipython",
    "version": 3
   },
   "file_extension": ".py",
   "mimetype": "text/x-python",
   "name": "python",
   "nbconvert_exporter": "python",
   "pygments_lexer": "ipython3",
   "version": "3.11.8"
  }
 },
 "nbformat": 4,
 "nbformat_minor": 5
}
